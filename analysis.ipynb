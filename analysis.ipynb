{
 "cells": [
  {
   "cell_type": "markdown",
   "id": "217be5bd",
   "metadata": {},
   "source": [
    "# Demand Forecasting Suite\n",
    "This notebook demonstrates forecasting using ARIMA and XGBoost."
   ]
  },
  {
   "cell_type": "code",
   "execution_count": null,
   "id": "cdd2a7bc",
   "metadata": {},
   "outputs": [],
   "source": [
    "import pandas as pd\n",
    "import statsmodels.api as sm\n",
    "from xgboost import XGBRegressor\n",
    "import matplotlib.pyplot as plt\n",
    "from sklearn.metrics import mean_absolute_percentage_error\n",
    "\n",
    "def prepare_lagged_features(series, n_lags=3):\n",
    "    df = pd.DataFrame({'y': series})\n",
    "    for i in range(1, n_lags + 1):\n",
    "        df[f'lag{i}'] = df['y'].shift(i)\n",
    "    df = df.dropna()\n",
    "    X = df[[f'lag{i}' for i in range(1, n_lags + 1)]]\n",
    "    y = df['y']\n",
    "    return X, y\n",
    "\n",
    "# Load a dataset\n",
    "retail = pd.read_csv('data/retail_demand_uae.csv')\n",
    "series = retail['demand']\n",
    "# ARIMA\n",
    "model = sm.tsa.ARIMA(series[:int(len(series)*0.8)], order=(1,1,1))\n",
    "fit = model.fit()\n",
    "pred = fit.forecast(steps=len(series)-int(len(series)*0.8))\n",
    "# Plot\n",
    "plt.plot(range(int(len(series)*0.8), len(series)), series[int(len(series)*0.8):], label='Actual')\n",
    "plt.plot(range(int(len(series)*0.8), len(series)), pred, label='ARIMA Forecast')\n",
    "plt.legend()\n",
    "plt.show()\n"
   ]
  }
 ],
 "metadata": {},
 "nbformat": 4,
 "nbformat_minor": 5
}
